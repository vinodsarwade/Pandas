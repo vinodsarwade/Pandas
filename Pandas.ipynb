{
 "cells": [
  {
   "cell_type": "markdown",
   "id": "9c0892e2-cbd4-479e-a39e-a6d8e2057687",
   "metadata": {},
   "source": [
    "<h1>Pandas: Series</h1>"
   ]
  },
  {
   "cell_type": "code",
   "execution_count": 1,
   "id": "350ea161-bb23-4d6e-aac4-c7929a619447",
   "metadata": {},
   "outputs": [
    {
     "name": "stdout",
     "output_type": "stream",
     "text": [
      "0    3\n",
      "1    4\n",
      "2    5\n",
      "3    6\n",
      "dtype: int64\n",
      "a    3\n",
      "b    4\n",
      "c    5\n",
      "d    6\n",
      "dtype: int64\n",
      "a    3.0\n",
      "b    4.0\n",
      "c    5.0\n",
      "d    6.0\n",
      "dtype: float64\n",
      "a    3.0\n",
      "b    4.0\n",
      "c    5.0\n",
      "d    6.0\n",
      "Name: python, dtype: float64\n",
      "5\n",
      "4\n"
     ]
    }
   ],
   "source": [
    "import pandas as pd\n",
    "\n",
    "x = [3,4,5,6]\n",
    "ser = pd.Series(x)\n",
    "index = pd.Series(x, index=['a','b','c','d'])      #to change index of table by default it's 0-->n\n",
    "datatype = pd.Series(x, index=['a','b','c','d'], dtype='float')     #convert to float \n",
    "name = pd.Series(x, index=['a','b','c','d'], dtype='float', name ='python')    # give specific name to dataset\n",
    "\n",
    "print(ser)\n",
    "print(index)\n",
    "print(datatype)\n",
    "print(name)\n",
    "\n",
    "print(ser[2])        #to get element of array\n",
    "print(index['b'])   # we can access the elements using index of table"
   ]
  },
  {
   "cell_type": "code",
   "execution_count": 2,
   "id": "9ab82c95-b02c-4a90-8524-63defff2d41a",
   "metadata": {},
   "outputs": [
    {
     "data": {
      "text/plain": [
       "name    [python, c, c++, java]\n",
       "por           [12, 13, 14, 15]\n",
       "rank              [1, 4, 3, 2]\n",
       "dtype: object"
      ]
     },
     "execution_count": 2,
     "metadata": {},
     "output_type": "execute_result"
    }
   ],
   "source": [
    "dic = {\"name\":['python','c','c++','java'], \"por\":[12,13,14,15], \"rank\":[1,4,3,2]}\n",
    "var1 = pd.Series(dic) \n",
    "var1"
   ]
  },
  {
   "cell_type": "code",
   "execution_count": 3,
   "id": "8980722a-3b63-4414-81df-46c9658aedf9",
   "metadata": {},
   "outputs": [
    {
     "name": "stdout",
     "output_type": "stream",
     "text": [
      "0    12\n",
      "dtype: int64\n",
      "1    12\n",
      "2    12\n",
      "3    12\n",
      "4    12\n",
      "5    12\n",
      "6    12\n",
      "7    12\n",
      "8    12\n",
      "dtype: int64\n"
     ]
    }
   ],
   "source": [
    "import pandas as pd\n",
    "s = pd.Series(12)            # create series of 12 at 0th position \n",
    "m = pd.Series(12, index = [1,2,3,4,5,6,7,8]) #create series for 12 at given index position\n",
    "print(s)\n",
    "print(m)"
   ]
  },
  {
   "cell_type": "code",
   "execution_count": 4,
   "id": "0f56b55a-2912-42c0-9ba9-a96dac910538",
   "metadata": {},
   "outputs": [
    {
     "name": "stdout",
     "output_type": "stream",
     "text": [
      "1    24.0\n",
      "2    24.0\n",
      "3    24.0\n",
      "4    24.0\n",
      "5     NaN\n",
      "6     NaN\n",
      "7     NaN\n",
      "8     NaN\n",
      "dtype: float64\n"
     ]
    }
   ],
   "source": [
    "#if we need to add two Series data it will add likw below.but it will add up to same\n",
    "#index which is present in both series. (size should be same ) else it print NaN(not a number)\n",
    "#in numpy if we did this we got broadcast error. but pandas will support this. \n",
    "\n",
    "m = pd.Series(12, index = [1,2,3,4,5,6,7,8])\n",
    "n = pd.Series(12, index = [1,2,3,4])\n",
    "print((m + n))"
   ]
  },
  {
   "cell_type": "markdown",
   "id": "ef15d95b-e6a4-49a1-9a91-702d89e837bf",
   "metadata": {},
   "source": [
    "<h1>Pandas: DataFrame"
   ]
  },
  {
   "cell_type": "code",
   "execution_count": 5,
   "id": "25fe1c9d-f95e-4083-baea-5eb1bd993be9",
   "metadata": {},
   "outputs": [
    {
     "name": "stdout",
     "output_type": "stream",
     "text": [
      "   0\n",
      "0  1\n",
      "1  2\n",
      "2  3\n",
      "3  4\n",
      "4  5\n",
      "5  6\n",
      "<class 'pandas.core.frame.DataFrame'>\n"
     ]
    }
   ],
   "source": [
    "import pandas as pd\n",
    "list1 = [1,2,3,4,5,6]\n",
    "var = pd.DataFrame(list1)\n",
    "print(var)\n",
    "print(type(var))"
   ]
  },
  {
   "cell_type": "code",
   "execution_count": 6,
   "id": "02f79fc5-5b5f-4eae-88f6-3a42ee28a27d",
   "metadata": {},
   "outputs": [
    {
     "name": "stdout",
     "output_type": "stream",
     "text": [
      "    a  s  d  1\n",
      "0   1  1  1  1\n",
      "1   2  2  2  2\n",
      "2   3  3  3  3\n",
      "3  14  4  4  4\n",
      "4   5  5  5  5\n",
      "14\n",
      "    a\n",
      "0   1\n",
      "1   2\n",
      "2   3\n",
      "3  14\n",
      "4   5\n"
     ]
    }
   ],
   "source": [
    "dictionary = {\"a\":[1,2,3,14,5], \"s\":[1,2,3,4,5],\"d\":[1,2,3,4,5],1:[1,2,3,4,5]}\n",
    "var1 = pd.DataFrame(dictionary)\n",
    "print(var1)\n",
    "\n",
    "print(var1[\"a\"][3])  #get specific element from DataFrame\n",
    "\n",
    "var2 = pd.DataFrame(dictionary, columns=[\"a\"]) #print only column a \n",
    "print(var2)"
   ]
  },
  {
   "cell_type": "code",
   "execution_count": 7,
   "id": "9732fc37-d791-403e-8447-5c9d018f8ad0",
   "metadata": {},
   "outputs": [
    {
     "data": {
      "text/html": [
       "<div>\n",
       "<style scoped>\n",
       "    .dataframe tbody tr th:only-of-type {\n",
       "        vertical-align: middle;\n",
       "    }\n",
       "\n",
       "    .dataframe tbody tr th {\n",
       "        vertical-align: top;\n",
       "    }\n",
       "\n",
       "    .dataframe thead th {\n",
       "        text-align: right;\n",
       "    }\n",
       "</style>\n",
       "<table border=\"1\" class=\"dataframe\">\n",
       "  <thead>\n",
       "    <tr style=\"text-align: right;\">\n",
       "      <th></th>\n",
       "      <th>0</th>\n",
       "      <th>1</th>\n",
       "      <th>2</th>\n",
       "      <th>3</th>\n",
       "      <th>4</th>\n",
       "    </tr>\n",
       "  </thead>\n",
       "  <tbody>\n",
       "    <tr>\n",
       "      <th>0</th>\n",
       "      <td>1</td>\n",
       "      <td>2</td>\n",
       "      <td>3</td>\n",
       "      <td>4</td>\n",
       "      <td>5</td>\n",
       "    </tr>\n",
       "    <tr>\n",
       "      <th>1</th>\n",
       "      <td>11</td>\n",
       "      <td>12</td>\n",
       "      <td>13</td>\n",
       "      <td>14</td>\n",
       "      <td>15</td>\n",
       "    </tr>\n",
       "  </tbody>\n",
       "</table>\n",
       "</div>"
      ],
      "text/plain": [
       "    0   1   2   3   4\n",
       "0   1   2   3   4   5\n",
       "1  11  12  13  14  15"
      ]
     },
     "execution_count": 7,
     "metadata": {},
     "output_type": "execute_result"
    }
   ],
   "source": [
    "list_1 = [ [1,2,3,4,5], [11,12,13,14,15] ]\n",
    "v = pd.DataFrame(list_1)\n",
    "v"
   ]
  },
  {
   "cell_type": "code",
   "execution_count": 8,
   "id": "b951f787-cc2c-492d-9ccc-b88338bea0c2",
   "metadata": {},
   "outputs": [
    {
     "name": "stdout",
     "output_type": "stream",
     "text": [
      "   s  r\n",
      "0  1  5\n",
      "1  2  6\n",
      "2  3  7\n",
      "3  4  8\n"
     ]
    }
   ],
   "source": [
    "sr = {\n",
    "    \"s\":pd.Series([1,2,3,4]), \n",
    "    \"r\":pd.Series([5,6,7,8])}\n",
    "n = pd.DataFrame(sr)\n",
    "print(n)"
   ]
  },
  {
   "cell_type": "code",
   "execution_count": 9,
   "id": "db096257-26b4-486c-98bb-ac713bf9eb9c",
   "metadata": {},
   "outputs": [
    {
     "name": "stdout",
     "output_type": "stream",
     "text": [
      "   calories  duration\n",
      "0       420        50\n",
      "1       380        40\n",
      "2       390        45\n"
     ]
    }
   ],
   "source": [
    "import pandas as pd\n",
    "data = {\n",
    "  \"calories\": [420, 380, 390],\n",
    "  \"duration\": [50, 40, 45]\n",
    "}\n",
    "myvar = pd.DataFrame(data)\n",
    "\n",
    "print(myvar)"
   ]
  },
  {
   "cell_type": "code",
   "execution_count": 10,
   "id": "a2960406-c132-412f-869e-25af7015de1d",
   "metadata": {},
   "outputs": [
    {
     "name": "stdout",
     "output_type": "stream",
     "text": [
      "calories    420\n",
      "duration     50\n",
      "Name: 0, dtype: int64\n"
     ]
    }
   ],
   "source": [
    "print(myvar.loc[0])     # to get rows from DataFrame use loc[] function, it will return a Series"
   ]
  },
  {
   "cell_type": "code",
   "execution_count": 11,
   "id": "28b8694e-a74b-4418-babc-1387a515b0aa",
   "metadata": {},
   "outputs": [
    {
     "name": "stdout",
     "output_type": "stream",
     "text": [
      "   calories  duration\n",
      "0       420        50\n",
      "1       380        40\n"
     ]
    }
   ],
   "source": [
    "print(myvar.loc[[0 , 1]])   ## to get rows from DataFrame use loc[[]] function with [] , it will return a DataFrame"
   ]
  },
  {
   "cell_type": "markdown",
   "id": "2d7bd4e6-82a4-4299-827b-207d69f0dbe6",
   "metadata": {},
   "source": [
    "<h1>Pandas: Arithmetic operation"
   ]
  },
  {
   "cell_type": "code",
   "execution_count": 12,
   "id": "d8e60c2e-2c12-4f3b-8d95-0829e135cc43",
   "metadata": {},
   "outputs": [
    {
     "name": "stdout",
     "output_type": "stream",
     "text": [
      "   A  B\n",
      "0  1  5\n",
      "1  2  6\n",
      "2  3  7\n",
      "3  4  8\n"
     ]
    }
   ],
   "source": [
    "import pandas as pd\n",
    "var = pd.DataFrame({\"A\":[1,2,3,4],\"B\":[5,6,7,8]})\n",
    "print(var)"
   ]
  },
  {
   "cell_type": "code",
   "execution_count": 13,
   "id": "38cd99cf",
   "metadata": {},
   "outputs": [
    {
     "name": "stdout",
     "output_type": "stream",
     "text": [
      "   A  B\n",
      "0  1  5\n",
      "1  2  6\n",
      "2  3  7\n",
      "3  4  8\n"
     ]
    }
   ],
   "source": [
    "import pandas as pd \n",
    "var = pd.DataFrame(\n",
    "    {\n",
    "        \"A\":[1,2,3,4], \"B\":[5,6,7,8]\n",
    "    })\n",
    "print(var)"
   ]
  },
  {
   "cell_type": "code",
   "execution_count": 14,
   "id": "bf6313ca",
   "metadata": {},
   "outputs": [
    {
     "name": "stdout",
     "output_type": "stream",
     "text": [
      "   A  B   C\n",
      "0  1  5   6\n",
      "1  2  6   8\n",
      "2  3  7  10\n",
      "3  4  8  12\n"
     ]
    }
   ],
   "source": [
    "var[\"C\"] = var[\"A\"] + var[\"B\"]    #addition of both column\n",
    "print(var)"
   ]
  },
  {
   "cell_type": "code",
   "execution_count": 15,
   "id": "13a2de97",
   "metadata": {},
   "outputs": [
    {
     "name": "stdout",
     "output_type": "stream",
     "text": [
      "   A  B   C  D\n",
      "0  1  5   6 -4\n",
      "1  2  6   8 -4\n",
      "2  3  7  10 -4\n",
      "3  4  8  12 -4\n"
     ]
    }
   ],
   "source": [
    "var[\"D\"] = var[\"A\"] - var[\"B\"]    #substraction of both column\n",
    "print(var)"
   ]
  },
  {
   "cell_type": "code",
   "execution_count": 16,
   "id": "07662068",
   "metadata": {},
   "outputs": [
    {
     "name": "stdout",
     "output_type": "stream",
     "text": [
      "    A   B\n",
      "0  10  50\n",
      "1  20  60\n",
      "2  30  70\n",
      "3  40  80\n"
     ]
    }
   ],
   "source": [
    "var1 = pd.DataFrame({\"A\":[10,20,30,40], \"B\":[50,60,70,80]})\n",
    "print(var1)\n",
    "\n"
   ]
  },
  {
   "cell_type": "code",
   "execution_count": 17,
   "id": "761922d3",
   "metadata": {},
   "outputs": [
    {
     "name": "stdout",
     "output_type": "stream",
     "text": [
      "    A   B  python\n",
      "0  10  50    True\n",
      "1  20  60    True\n",
      "2  30  70   False\n",
      "3  40  80   False\n"
     ]
    }
   ],
   "source": [
    "var1[\"python\"] = var1[\"A\"] <= 20     #create new column named as \"python\" and check if data in column \"A\" is less than 20\n",
    "print(var1)"
   ]
  },
  {
   "cell_type": "code",
   "execution_count": 18,
   "id": "3db3d302",
   "metadata": {},
   "outputs": [
    {
     "name": "stdout",
     "output_type": "stream",
     "text": [
      "    A   B  python  python_1\n",
      "0  10  50    True     False\n",
      "1  20  60    True      True\n",
      "2  30  70   False      True\n",
      "3  40  80   False      True\n"
     ]
    }
   ],
   "source": [
    "var1[\"python_1\"] = var1[\"B\"] >= 60     #create new column named as \"python_1\" and check if data in column \"B\" is greater than 60\n",
    "print(var1)"
   ]
  },
  {
   "cell_type": "markdown",
   "id": "91e98077",
   "metadata": {},
   "source": [
    "<h1>Insert "
   ]
  },
  {
   "cell_type": "code",
   "execution_count": 19,
   "id": "ab0b0ad6",
   "metadata": {},
   "outputs": [
    {
     "name": "stdout",
     "output_type": "stream",
     "text": [
      "   A   B\n",
      "0  1   6\n",
      "1  2   7\n",
      "2  3   8\n",
      "3  4   9\n",
      "4  5  10\n"
     ]
    }
   ],
   "source": [
    "import pandas as pd \n",
    "var = pd.DataFrame({\n",
    "    \"A\":[1,2,3,4,5],\n",
    "    \"B\":[6,7,8,9,10]\n",
    "})\n",
    "print(var)"
   ]
  },
  {
   "cell_type": "code",
   "execution_count": 20,
   "id": "bdd57e9c",
   "metadata": {},
   "outputs": [
    {
     "ename": "ValueError",
     "evalue": "Length of values (4) does not match length of index (5)",
     "output_type": "error",
     "traceback": [
      "\u001b[1;31m---------------------------------------------------------------------------\u001b[0m",
      "\u001b[1;31mValueError\u001b[0m                                Traceback (most recent call last)",
      "Cell \u001b[1;32mIn[20], line 1\u001b[0m\n\u001b[1;32m----> 1\u001b[0m \u001b[43mvar\u001b[49m\u001b[38;5;241;43m.\u001b[39;49m\u001b[43minsert\u001b[49m\u001b[43m(\u001b[49m\u001b[38;5;241;43m1\u001b[39;49m\u001b[43m,\u001b[49m\u001b[38;5;124;43m\"\u001b[39;49m\u001b[38;5;124;43mpython\u001b[39;49m\u001b[38;5;124;43m\"\u001b[39;49m\u001b[43m,\u001b[49m\u001b[43m \u001b[49m\u001b[43m[\u001b[49m\u001b[38;5;241;43m11\u001b[39;49m\u001b[43m,\u001b[49m\u001b[38;5;241;43m12\u001b[39;49m\u001b[43m,\u001b[49m\u001b[38;5;241;43m13\u001b[39;49m\u001b[43m,\u001b[49m\u001b[38;5;241;43m14.15\u001b[39;49m\u001b[43m]\u001b[49m\u001b[43m)\u001b[49m  \u001b[38;5;66;03m#insert given data at 1th position in dataframe with column name as python.\u001b[39;00m\n\u001b[0;32m      2\u001b[0m \u001b[38;5;28mprint\u001b[39m(var)\n",
      "File \u001b[1;32mc:\\Users\\VSARWADE\\Desktop\\Pandas\\myenv\\Lib\\site-packages\\pandas\\core\\frame.py:5171\u001b[0m, in \u001b[0;36mDataFrame.insert\u001b[1;34m(self, loc, column, value, allow_duplicates)\u001b[0m\n\u001b[0;32m   5168\u001b[0m \u001b[38;5;28;01melif\u001b[39;00m \u001b[38;5;28misinstance\u001b[39m(value, DataFrame):\n\u001b[0;32m   5169\u001b[0m     value \u001b[38;5;241m=\u001b[39m value\u001b[38;5;241m.\u001b[39miloc[:, \u001b[38;5;241m0\u001b[39m]\n\u001b[1;32m-> 5171\u001b[0m value, refs \u001b[38;5;241m=\u001b[39m \u001b[38;5;28;43mself\u001b[39;49m\u001b[38;5;241;43m.\u001b[39;49m\u001b[43m_sanitize_column\u001b[49m\u001b[43m(\u001b[49m\u001b[43mvalue\u001b[49m\u001b[43m)\u001b[49m\n\u001b[0;32m   5172\u001b[0m \u001b[38;5;28mself\u001b[39m\u001b[38;5;241m.\u001b[39m_mgr\u001b[38;5;241m.\u001b[39minsert(loc, column, value, refs\u001b[38;5;241m=\u001b[39mrefs)\n",
      "File \u001b[1;32mc:\\Users\\VSARWADE\\Desktop\\Pandas\\myenv\\Lib\\site-packages\\pandas\\core\\frame.py:5266\u001b[0m, in \u001b[0;36mDataFrame._sanitize_column\u001b[1;34m(self, value)\u001b[0m\n\u001b[0;32m   5263\u001b[0m     \u001b[38;5;28;01mreturn\u001b[39;00m _reindex_for_setitem(value, \u001b[38;5;28mself\u001b[39m\u001b[38;5;241m.\u001b[39mindex)\n\u001b[0;32m   5265\u001b[0m \u001b[38;5;28;01mif\u001b[39;00m is_list_like(value):\n\u001b[1;32m-> 5266\u001b[0m     \u001b[43mcom\u001b[49m\u001b[38;5;241;43m.\u001b[39;49m\u001b[43mrequire_length_match\u001b[49m\u001b[43m(\u001b[49m\u001b[43mvalue\u001b[49m\u001b[43m,\u001b[49m\u001b[43m \u001b[49m\u001b[38;5;28;43mself\u001b[39;49m\u001b[38;5;241;43m.\u001b[39;49m\u001b[43mindex\u001b[49m\u001b[43m)\u001b[49m\n\u001b[0;32m   5267\u001b[0m arr \u001b[38;5;241m=\u001b[39m sanitize_array(value, \u001b[38;5;28mself\u001b[39m\u001b[38;5;241m.\u001b[39mindex, copy\u001b[38;5;241m=\u001b[39m\u001b[38;5;28;01mTrue\u001b[39;00m, allow_2d\u001b[38;5;241m=\u001b[39m\u001b[38;5;28;01mTrue\u001b[39;00m)\n\u001b[0;32m   5268\u001b[0m \u001b[38;5;28;01mif\u001b[39;00m (\n\u001b[0;32m   5269\u001b[0m     \u001b[38;5;28misinstance\u001b[39m(value, Index)\n\u001b[0;32m   5270\u001b[0m     \u001b[38;5;129;01mand\u001b[39;00m value\u001b[38;5;241m.\u001b[39mdtype \u001b[38;5;241m==\u001b[39m \u001b[38;5;124m\"\u001b[39m\u001b[38;5;124mobject\u001b[39m\u001b[38;5;124m\"\u001b[39m\n\u001b[1;32m   (...)\u001b[0m\n\u001b[0;32m   5273\u001b[0m     \u001b[38;5;66;03m# TODO: Remove kludge in sanitize_array for string mode when enforcing\u001b[39;00m\n\u001b[0;32m   5274\u001b[0m     \u001b[38;5;66;03m# this deprecation\u001b[39;00m\n",
      "File \u001b[1;32mc:\\Users\\VSARWADE\\Desktop\\Pandas\\myenv\\Lib\\site-packages\\pandas\\core\\common.py:573\u001b[0m, in \u001b[0;36mrequire_length_match\u001b[1;34m(data, index)\u001b[0m\n\u001b[0;32m    569\u001b[0m \u001b[38;5;250m\u001b[39m\u001b[38;5;124;03m\"\"\"\u001b[39;00m\n\u001b[0;32m    570\u001b[0m \u001b[38;5;124;03mCheck the length of data matches the length of the index.\u001b[39;00m\n\u001b[0;32m    571\u001b[0m \u001b[38;5;124;03m\"\"\"\u001b[39;00m\n\u001b[0;32m    572\u001b[0m \u001b[38;5;28;01mif\u001b[39;00m \u001b[38;5;28mlen\u001b[39m(data) \u001b[38;5;241m!=\u001b[39m \u001b[38;5;28mlen\u001b[39m(index):\n\u001b[1;32m--> 573\u001b[0m     \u001b[38;5;28;01mraise\u001b[39;00m \u001b[38;5;167;01mValueError\u001b[39;00m(\n\u001b[0;32m    574\u001b[0m         \u001b[38;5;124m\"\u001b[39m\u001b[38;5;124mLength of values \u001b[39m\u001b[38;5;124m\"\u001b[39m\n\u001b[0;32m    575\u001b[0m         \u001b[38;5;124mf\u001b[39m\u001b[38;5;124m\"\u001b[39m\u001b[38;5;124m(\u001b[39m\u001b[38;5;132;01m{\u001b[39;00m\u001b[38;5;28mlen\u001b[39m(data)\u001b[38;5;132;01m}\u001b[39;00m\u001b[38;5;124m) \u001b[39m\u001b[38;5;124m\"\u001b[39m\n\u001b[0;32m    576\u001b[0m         \u001b[38;5;124m\"\u001b[39m\u001b[38;5;124mdoes not match length of index \u001b[39m\u001b[38;5;124m\"\u001b[39m\n\u001b[0;32m    577\u001b[0m         \u001b[38;5;124mf\u001b[39m\u001b[38;5;124m\"\u001b[39m\u001b[38;5;124m(\u001b[39m\u001b[38;5;132;01m{\u001b[39;00m\u001b[38;5;28mlen\u001b[39m(index)\u001b[38;5;132;01m}\u001b[39;00m\u001b[38;5;124m)\u001b[39m\u001b[38;5;124m\"\u001b[39m\n\u001b[0;32m    578\u001b[0m     )\n",
      "\u001b[1;31mValueError\u001b[0m: Length of values (4) does not match length of index (5)"
     ]
    }
   ],
   "source": [
    "\n",
    "var.insert(1,\"python\", [11,12,13,14.15])  #insert given data at 1th position in dataframe with column name as python.\n",
    "print(var)"
   ]
  },
  {
   "cell_type": "code",
   "execution_count": null,
   "id": "7a7a0c47",
   "metadata": {},
   "outputs": [
    {
     "ename": "NameError",
     "evalue": "name 'var' is not defined",
     "output_type": "error",
     "traceback": [
      "\u001b[1;31m---------------------------------------------------------------------------\u001b[0m",
      "\u001b[1;31mNameError\u001b[0m                                 Traceback (most recent call last)",
      "Cell \u001b[1;32mIn[12], line 1\u001b[0m\n\u001b[1;32m----> 1\u001b[0m var[\u001b[38;5;124m\"\u001b[39m\u001b[38;5;124mpython_1\u001b[39m\u001b[38;5;124m\"\u001b[39m] \u001b[38;5;241m=\u001b[39m \u001b[43mvar\u001b[49m[\u001b[38;5;124m\"\u001b[39m\u001b[38;5;124mA\u001b[39m\u001b[38;5;124m\"\u001b[39m][\u001b[38;5;241m0\u001b[39m:\u001b[38;5;241m5\u001b[39m]    \u001b[38;5;66;03m#copy 0 to 3 data from column \"A\" and  add in a python-1 column.\u001b[39;00m\n\u001b[0;32m      2\u001b[0m \u001b[38;5;28mprint\u001b[39m(var)\n",
      "\u001b[1;31mNameError\u001b[0m: name 'var' is not defined"
     ]
    }
   ],
   "source": [
    "var[\"python_1\"] = var[\"A\"][0:3]    #copy 0 to 3 data from column \"A\" and  add in a python-1 column.\n",
    "print(var)"
   ]
  },
  {
   "cell_type": "markdown",
   "id": "26466410",
   "metadata": {},
   "source": [
    "<h1>Delete"
   ]
  },
  {
   "cell_type": "code",
   "execution_count": null,
   "id": "0850af1e",
   "metadata": {},
   "outputs": [
    {
     "name": "stdout",
     "output_type": "stream",
     "text": [
      "   A   B   C   E\n",
      "0  1   6  11  20\n",
      "1  2   7  12  21\n",
      "2  3   8  13  22\n",
      "3  4   9  14  23\n",
      "4  5  10  15  24\n"
     ]
    }
   ],
   "source": [
    "import pandas as pd \n",
    "data = pd.DataFrame({\n",
    "    \"A\":[1,2,3,4,5],\n",
    "    \"B\":[6,7,8,9,10],\n",
    "    \"C\":[11,12,13,14,15],\n",
    "    \"E\":[20,21,22,23,24]\n",
    "})\n",
    "print(data)"
   ]
  },
  {
   "cell_type": "code",
   "execution_count": null,
   "id": "48ef7bce",
   "metadata": {},
   "outputs": [
    {
     "name": "stdout",
     "output_type": "stream",
     "text": [
      "0     6\n",
      "1     7\n",
      "2     8\n",
      "3     9\n",
      "4    10\n",
      "Name: B, dtype: int64\n"
     ]
    }
   ],
   "source": [
    "pop = data.pop(\"B\") #for pop we use () with column to be delete\n",
    "print(pop)"
   ]
  },
  {
   "cell_type": "code",
   "execution_count": null,
   "id": "4b2cd29b",
   "metadata": {},
   "outputs": [
    {
     "name": "stdout",
     "output_type": "stream",
     "text": [
      "   A   C   E\n",
      "0  1  11  20\n",
      "1  2  12  21\n",
      "2  3  13  22\n",
      "3  4  14  23\n",
      "4  5  15  24\n"
     ]
    }
   ],
   "source": [
    "print(data)"
   ]
  },
  {
   "cell_type": "code",
   "execution_count": null,
   "id": "4d319094",
   "metadata": {},
   "outputs": [],
   "source": [
    "del data[\"E\"]   #for delete we use [] with column to be delete"
   ]
  },
  {
   "cell_type": "code",
   "execution_count": null,
   "id": "f44c471f",
   "metadata": {},
   "outputs": [
    {
     "name": "stdout",
     "output_type": "stream",
     "text": [
      "   A   C\n",
      "0  1  11\n",
      "1  2  12\n",
      "2  3  13\n",
      "3  4  14\n",
      "4  5  15\n"
     ]
    }
   ],
   "source": [
    "print(data)"
   ]
  },
  {
   "cell_type": "markdown",
   "id": "68ca99f5",
   "metadata": {},
   "source": [
    "<h1> Create CSV file"
   ]
  },
  {
   "cell_type": "code",
   "execution_count": null,
   "id": "2fe3cc63",
   "metadata": {},
   "outputs": [
    {
     "name": "stdout",
     "output_type": "stream",
     "text": [
      "   a  b  c\n",
      "0  1  1  1\n",
      "1  2  2  2\n",
      "2  3  3  3\n",
      "3  4  4  4\n",
      "4  5  5  5\n"
     ]
    }
   ],
   "source": [
    "import pandas as pd\n",
    "dic = {\"a\":[1,2,3,4,5], \"b\":[1,2,3,4,5],\"c\":[1,2,3,4,5]}\n",
    "frame = pd.DataFrame(dic)\n",
    "print(frame)\n",
    "\n",
    "frame.to_csv(\"Test.csv\") #create csv file named Test.csv\n",
    "frame.to_csv(\"Test_new.csv\", index = False) #remove index\n",
    "frame.to_csv(\"Test_new1.csv\", index= False, header=[1,2,3]) #rename column name using header\n"
   ]
  },
  {
   "cell_type": "markdown",
   "id": "eb32dc99",
   "metadata": {},
   "source": [
    "<h1>Read CSV \n"
   ]
  },
  {
   "cell_type": "code",
   "execution_count": null,
   "id": "8744085b",
   "metadata": {},
   "outputs": [
    {
     "name": "stdout",
     "output_type": "stream",
     "text": [
      "   a  b  c\n",
      "0  1  1  1\n",
      "1  2  2  2\n",
      "2  3  3  3\n",
      "3  4  4  4\n",
      "4  5  5  5\n"
     ]
    }
   ],
   "source": [
    "import pandas as pd \n",
    "read_csv = pd.read_csv(\"C:\\\\Users\\\\VSARWADE\\\\Desktop\\\\Pandas\\\\Test_new.csv\")\n",
    "print(read_csv)\n"
   ]
  },
  {
   "cell_type": "code",
   "execution_count": null,
   "id": "7210517f",
   "metadata": {},
   "outputs": [
    {
     "name": "stdout",
     "output_type": "stream",
     "text": [
      "   a  b  c\n",
      "0  1  1  1\n",
      "1  2  2  2\n",
      "     Age\n",
      "0     17\n",
      "1     18\n",
      "2     15\n",
      "3     17\n",
      "4     17\n",
      "..   ...\n",
      "143   18\n",
      "144   18\n",
      "145   17\n",
      "146   17\n",
      "147   17\n",
      "\n",
      "[148 rows x 1 columns]\n",
      "     Gender\n",
      "0         1\n",
      "1         0\n",
      "2         0\n",
      "3         1\n",
      "4         1\n",
      "..      ...\n",
      "143       0\n",
      "144       0\n",
      "145       1\n",
      "146       1\n",
      "147       0\n",
      "\n",
      "[148 rows x 1 columns]\n"
     ]
    }
   ],
   "source": [
    "import pandas as pd \n",
    "read_csv = pd.read_csv(\"C:\\\\Users\\\\VSARWADE\\\\Desktop\\\\Pandas\\\\Test_new.csv\",nrows=2)  # to get no of rows then use 'nrows'\n",
    "print(read_csv)\n",
    "\n",
    "read_csv_1 = pd.read_csv(\"C:\\\\Users\\\\VSARWADE\\\\Desktop\\\\Pandas\\\\Student.csv\", usecols=[\"Age\"])  # to get perticuler column in csv file use \"usecols=[\"column_name\"]\"\n",
    "print(read_csv_1)\n",
    "\n",
    "read_csv_2 = pd.read_csv(\"C:\\\\Users\\\\VSARWADE\\\\Desktop\\\\Pandas\\\\Student.csv\", usecols=[2])  # to get perticuler column in csv file we can give interger position of column also.\n",
    "print(read_csv_2)\n"
   ]
  },
  {
   "cell_type": "code",
   "execution_count": null,
   "id": "25148dc4",
   "metadata": {},
   "outputs": [
    {
     "name": "stdout",
     "output_type": "stream",
     "text": [
      "     1001  17  1  0  2  19.833722807854713   7  1.1  2.1  0.1  0.2  1.2  0.3  \\\n",
      "0    1002  18  0  0  1           15.408756   0    0    1    0    0    0    0   \n",
      "1    1003  15  0  2  3            4.210570  26    0    2    0    0    0    0   \n",
      "2    1004  17  1  0  3           10.028829  14    0    3    1    0    0    0   \n",
      "3    1005  17  1  0  2            4.672495  17    1    3    0    0    0    0   \n",
      "4    1006  18  0  0  1            8.191219   0    0    1    1    0    0    0   \n",
      "..    ...  .. .. .. ..                 ...  ..  ...  ...  ...  ...  ...  ...   \n",
      "142  1144  18  0  2  1           18.978324  16    0    2    1    0    1    0   \n",
      "143  1145  18  0  2  2            4.919995   7    1    2    1    1    0    0   \n",
      "144  1146  17  1  0  3           10.641736   9    0    3    1    0    0    0   \n",
      "145  1147  17  1  2  2            9.647124   1    1    2    1    0    0    1   \n",
      "146  1148  17  0  2  1           14.057329  11    0    3    0    1    0    0   \n",
      "\n",
      "     2.929195591667681  2.0  \n",
      "0             3.042915  1.0  \n",
      "1             0.112602  4.0  \n",
      "2             2.054218  3.0  \n",
      "3             1.288061  4.0  \n",
      "4             3.084184  1.0  \n",
      "..                 ...  ...  \n",
      "142           2.033545  3.0  \n",
      "143           2.432079  3.0  \n",
      "144           2.659771  2.0  \n",
      "145           3.588888  0.0  \n",
      "146           2.314588  3.0  \n",
      "\n",
      "[147 rows x 15 columns]\n"
     ]
    }
   ],
   "source": [
    "read_csv_3 = pd.read_csv(\"C:\\\\Users\\\\VSARWADE\\\\Desktop\\\\Pandas\\\\Student.csv\", skiprows=[0])  #using this we can skip rows in a csv file\n",
    "print(read_csv_3)"
   ]
  },
  {
   "cell_type": "code",
   "execution_count": 21,
   "id": "fd189416",
   "metadata": {},
   "outputs": [
    {
     "name": "stdout",
     "output_type": "stream",
     "text": [
      "     StudentID  Gender  Ethnicity  ParentalEducation\n",
      "Age                                                 \n",
      "17        1001       1          0                  2\n",
      "18        1002       0          0                  1\n",
      "15        1003       0          2                  3\n",
      "17        1004       1          0                  3\n",
      "17        1005       1          0                  2\n",
      "18        1006       0          0                  1\n",
      "15        1007       0          1                  1\n",
      "15        1008       1          1                  4\n",
      "17        1009       0          0                  0\n",
      "16        1010       1          0                  1\n",
      "17        1011       0          0                  1\n",
      "17        1012       0          0                  1\n",
      "17        1013       0          1                  1\n",
      "17        1014       0          1                  2\n",
      "18        1015       1          0                  1\n",
      "15        1016       0          0                  2\n",
      "18        1017       0          3                  1\n",
      "18        1018       1          0                  0\n",
      "18        1019       0          1                  3\n",
      "17        1020       0          0                  1\n",
      "16        1021       1          0                  3\n",
      "15        1022       0          0                  2\n",
      "16        1023       1          1                  0\n",
      "18        1024       1          3                  4\n",
      "18        1025       1          0                  1\n",
      "16        1026       1          0                  3\n",
      "16        1027       0          0                  1\n",
      "16        1028       1          0                  3\n",
      "18        1029       0          0                  0\n"
     ]
    }
   ],
   "source": [
    "read_csv_4 = pd.read_csv(\"C:\\\\Users\\\\VSARWADE\\\\Desktop\\\\Pandas\\\\Student.csv\",index_col=[\"Age\"])  #using this we can use Age column as a index in a file .rather than using original index.\n",
    "print(read_csv_4)"
   ]
  },
  {
   "cell_type": "code",
   "execution_count": 25,
   "id": "15983437",
   "metadata": {},
   "outputs": [
    {
     "name": "stdout",
     "output_type": "stream",
     "text": [
      "    1002  18  0  0.1  1\n",
      "0   1003  15  0    2  3\n",
      "1   1004  17  1    0  3\n",
      "2   1005  17  1    0  2\n",
      "3   1006  18  0    0  1\n",
      "4   1007  15  0    1  1\n",
      "5   1008  15  1    1  4\n",
      "6   1009  17  0    0  0\n",
      "7   1010  16  1    0  1\n",
      "8   1011  17  0    0  1\n",
      "9   1012  17  0    0  1\n",
      "10  1013  17  0    1  1\n",
      "11  1014  17  0    1  2\n",
      "12  1015  18  1    0  1\n",
      "13  1016  15  0    0  2\n",
      "14  1017  18  0    3  1\n",
      "15  1018  18  1    0  0\n",
      "16  1019  18  0    1  3\n",
      "17  1020  17  0    0  1\n",
      "18  1021  16  1    0  3\n",
      "19  1022  15  0    0  2\n",
      "20  1023  16  1    1  0\n",
      "21  1024  18  1    3  4\n",
      "22  1025  18  1    0  1\n",
      "23  1026  16  1    0  3\n",
      "24  1027  16  0    0  1\n",
      "25  1028  16  1    0  3\n",
      "26  1029  18  0    0  0\n"
     ]
    }
   ],
   "source": [
    "import pandas as pd\n",
    "read_csv_5 = pd.read_csv(\"C:\\\\Users\\\\VSARWADE\\\\Desktop\\\\Pandas\\\\Student.csv\",header=2)  #using this we can use second column as a header in a file.\n",
    "print(read_csv_5)"
   ]
  },
  {
   "cell_type": "code",
   "execution_count": 24,
   "id": "13b26124",
   "metadata": {},
   "outputs": [
    {
     "name": "stdout",
     "output_type": "stream",
     "text": [
      "         col1 col2    col3       col4               col5\n",
      "0   StudentID  Age  Gender  Ethnicity  ParentalEducation\n",
      "1        1001   17       1          0                  2\n",
      "2        1002   18       0          0                  1\n",
      "3        1003   15       0          2                  3\n",
      "4        1004   17       1          0                  3\n",
      "5        1005   17       1          0                  2\n",
      "6        1006   18       0          0                  1\n",
      "7        1007   15       0          1                  1\n",
      "8        1008   15       1          1                  4\n",
      "9        1009   17       0          0                  0\n",
      "10       1010   16       1          0                  1\n",
      "11       1011   17       0          0                  1\n",
      "12       1012   17       0          0                  1\n",
      "13       1013   17       0          1                  1\n",
      "14       1014   17       0          1                  2\n",
      "15       1015   18       1          0                  1\n",
      "16       1016   15       0          0                  2\n",
      "17       1017   18       0          3                  1\n",
      "18       1018   18       1          0                  0\n",
      "19       1019   18       0          1                  3\n",
      "20       1020   17       0          0                  1\n",
      "21       1021   16       1          0                  3\n",
      "22       1022   15       0          0                  2\n",
      "23       1023   16       1          1                  0\n",
      "24       1024   18       1          3                  4\n",
      "25       1025   18       1          0                  1\n",
      "26       1026   16       1          0                  3\n",
      "27       1027   16       0          0                  1\n",
      "28       1028   16       1          0                  3\n",
      "29       1029   18       0          0                  0\n"
     ]
    }
   ],
   "source": [
    "read_csv_6 = pd.read_csv(\"C:\\\\Users\\\\VSARWADE\\\\Desktop\\\\Pandas\\\\Student.csv\",names=[\"col1\",\"col2\",\"col3\",\"col4\",\"col5\"])  #can give header names in a file \n",
    "print(read_csv_6)"
   ]
  },
  {
   "cell_type": "code",
   "execution_count": 26,
   "id": "e40908e0",
   "metadata": {},
   "outputs": [
    {
     "name": "stdout",
     "output_type": "stream",
     "text": [
      "    StudentID   Age  Gender  Ethnicity  ParentalEducation\n",
      "0        1001  17.0       1          0                  2\n",
      "1        1002  18.0       0          0                  1\n",
      "2        1003  15.0       0          2                  3\n",
      "3        1004  17.0       1          0                  3\n",
      "4        1005  17.0       1          0                  2\n",
      "5        1006  18.0       0          0                  1\n",
      "6        1007  15.0       0          1                  1\n",
      "7        1008  15.0       1          1                  4\n",
      "8        1009  17.0       0          0                  0\n",
      "9        1010  16.0       1          0                  1\n",
      "10       1011  17.0       0          0                  1\n",
      "11       1012  17.0       0          0                  1\n",
      "12       1013  17.0       0          1                  1\n",
      "13       1014  17.0       0          1                  2\n",
      "14       1015  18.0       1          0                  1\n",
      "15       1016  15.0       0          0                  2\n",
      "16       1017  18.0       0          3                  1\n",
      "17       1018  18.0       1          0                  0\n",
      "18       1019  18.0       0          1                  3\n",
      "19       1020  17.0       0          0                  1\n",
      "20       1021  16.0       1          0                  3\n",
      "21       1022  15.0       0          0                  2\n",
      "22       1023  16.0       1          1                  0\n",
      "23       1024  18.0       1          3                  4\n",
      "24       1025  18.0       1          0                  1\n",
      "25       1026  16.0       1          0                  3\n",
      "26       1027  16.0       0          0                  1\n",
      "27       1028  16.0       1          0                  3\n",
      "28       1029  18.0       0          0                  0\n"
     ]
    }
   ],
   "source": [
    "read_csv_7 = pd.read_csv(\"C:\\\\Users\\\\VSARWADE\\\\Desktop\\\\Pandas\\\\Student.csv\", dtype={\"Age\":\"float\"}) #convert age column to float\n",
    "print(read_csv_7)"
   ]
  },
  {
   "cell_type": "code",
   "execution_count": null,
   "id": "fbe72e08",
   "metadata": {},
   "outputs": [
    {
     "name": "stdout",
     "output_type": "stream",
     "text": [
      "   A  B  C\n",
      "a  1  4  7\n",
      "b  2  5  8\n",
      "c  3  6  9\n",
      "A    2\n",
      "B    5\n",
      "C    8\n",
      "Name: b, dtype: int64\n",
      "A    3\n",
      "B    6\n",
      "C    9\n",
      "Name: c, dtype: int64\n",
      "   A  B  C\n",
      "0  1  4  7\n",
      "1  2  5  8\n",
      "2  3  6  9\n"
     ]
    }
   ],
   "source": [
    "import pandas as pd \n",
    "dic = {\"A\":[1,2,3], \"B\":[4,5,6], \"C\":[7,8,9]}\n",
    "df = pd.DataFrame(dic, index=[\"a\", \"b\", \"c\"])\n",
    "print(df)\n",
    "print(df.loc[\"b\"])   # using loc we can access rows using given index./ if not  index changed then we can give integer position also\n",
    "print(df.iloc[2])  # using iloc we can access rows using integer position.\n",
    "\n",
    "csv = df.to_csv(\"practice.csv\", index=False) \n",
    "read = pd.read_csv(\"practice.csv\")\n",
    "print(read)"
   ]
  },
  {
   "cell_type": "markdown",
   "id": "a32d677d",
   "metadata": {},
   "source": [
    "<h1>Pandas Function"
   ]
  },
  {
   "cell_type": "code",
   "execution_count": 29,
   "id": "e7a97114",
   "metadata": {},
   "outputs": [
    {
     "name": "stdout",
     "output_type": "stream",
     "text": [
      "    StudentID  Age  Gender  Ethnicity  ParentalEducation\n",
      "0        1001   17       1          0                  2\n",
      "1        1002   18       0          0                  1\n",
      "2        1003   15       0          2                  3\n",
      "3        1004   17       1          0                  3\n",
      "4        1005   17       1          0                  2\n",
      "5        1006   18       0          0                  1\n",
      "6        1007   15       0          1                  1\n",
      "7        1008   15       1          1                  4\n",
      "8        1009   17       0          0                  0\n",
      "9        1010   16       1          0                  1\n",
      "10       1011   17       0          0                  1\n",
      "11       1012   17       0          0                  1\n",
      "12       1013   17       0          1                  1\n",
      "13       1014   17       0          1                  2\n"
     ]
    }
   ],
   "source": [
    "import pandas as pd\n",
    "csv = pd.read_csv(\"C:\\\\Users\\\\VSARWADE\\\\Desktop\\\\Pandas\\\\Student.csv\")\n",
    "print(csv)"
   ]
  },
  {
   "cell_type": "code",
   "execution_count": 33,
   "id": "0ad63395",
   "metadata": {},
   "outputs": [
    {
     "data": {
      "text/plain": [
       "RangeIndex(start=0, stop=14, step=1)"
      ]
     },
     "execution_count": 33,
     "metadata": {},
     "output_type": "execute_result"
    }
   ],
   "source": [
    "csv.index #start and stop index\n"
   ]
  },
  {
   "cell_type": "code",
   "execution_count": 34,
   "id": "c4ed6497",
   "metadata": {},
   "outputs": [
    {
     "data": {
      "text/plain": [
       "Index(['StudentID', 'Age', 'Gender', 'Ethnicity', 'ParentalEducation'], dtype='object')"
      ]
     },
     "execution_count": 34,
     "metadata": {},
     "output_type": "execute_result"
    }
   ],
   "source": [
    "csv.columns #colums names\n"
   ]
  },
  {
   "cell_type": "code",
   "execution_count": 36,
   "id": "4eb93478",
   "metadata": {},
   "outputs": [
    {
     "data": {
      "text/html": [
       "<div>\n",
       "<style scoped>\n",
       "    .dataframe tbody tr th:only-of-type {\n",
       "        vertical-align: middle;\n",
       "    }\n",
       "\n",
       "    .dataframe tbody tr th {\n",
       "        vertical-align: top;\n",
       "    }\n",
       "\n",
       "    .dataframe thead th {\n",
       "        text-align: right;\n",
       "    }\n",
       "</style>\n",
       "<table border=\"1\" class=\"dataframe\">\n",
       "  <thead>\n",
       "    <tr style=\"text-align: right;\">\n",
       "      <th></th>\n",
       "      <th>StudentID</th>\n",
       "      <th>Age</th>\n",
       "      <th>Gender</th>\n",
       "      <th>Ethnicity</th>\n",
       "      <th>ParentalEducation</th>\n",
       "    </tr>\n",
       "  </thead>\n",
       "  <tbody>\n",
       "    <tr>\n",
       "      <th>count</th>\n",
       "      <td>14.0000</td>\n",
       "      <td>14.000000</td>\n",
       "      <td>14.000000</td>\n",
       "      <td>14.000000</td>\n",
       "      <td>14.000000</td>\n",
       "    </tr>\n",
       "    <tr>\n",
       "      <th>mean</th>\n",
       "      <td>1007.5000</td>\n",
       "      <td>16.642857</td>\n",
       "      <td>0.357143</td>\n",
       "      <td>0.428571</td>\n",
       "      <td>1.642857</td>\n",
       "    </tr>\n",
       "    <tr>\n",
       "      <th>std</th>\n",
       "      <td>4.1833</td>\n",
       "      <td>1.008208</td>\n",
       "      <td>0.497245</td>\n",
       "      <td>0.646206</td>\n",
       "      <td>1.081818</td>\n",
       "    </tr>\n",
       "    <tr>\n",
       "      <th>min</th>\n",
       "      <td>1001.0000</td>\n",
       "      <td>15.000000</td>\n",
       "      <td>0.000000</td>\n",
       "      <td>0.000000</td>\n",
       "      <td>0.000000</td>\n",
       "    </tr>\n",
       "    <tr>\n",
       "      <th>25%</th>\n",
       "      <td>1004.2500</td>\n",
       "      <td>16.250000</td>\n",
       "      <td>0.000000</td>\n",
       "      <td>0.000000</td>\n",
       "      <td>1.000000</td>\n",
       "    </tr>\n",
       "    <tr>\n",
       "      <th>50%</th>\n",
       "      <td>1007.5000</td>\n",
       "      <td>17.000000</td>\n",
       "      <td>0.000000</td>\n",
       "      <td>0.000000</td>\n",
       "      <td>1.000000</td>\n",
       "    </tr>\n",
       "    <tr>\n",
       "      <th>75%</th>\n",
       "      <td>1010.7500</td>\n",
       "      <td>17.000000</td>\n",
       "      <td>1.000000</td>\n",
       "      <td>1.000000</td>\n",
       "      <td>2.000000</td>\n",
       "    </tr>\n",
       "    <tr>\n",
       "      <th>max</th>\n",
       "      <td>1014.0000</td>\n",
       "      <td>18.000000</td>\n",
       "      <td>1.000000</td>\n",
       "      <td>2.000000</td>\n",
       "      <td>4.000000</td>\n",
       "    </tr>\n",
       "  </tbody>\n",
       "</table>\n",
       "</div>"
      ],
      "text/plain": [
       "       StudentID        Age     Gender  Ethnicity  ParentalEducation\n",
       "count    14.0000  14.000000  14.000000  14.000000          14.000000\n",
       "mean   1007.5000  16.642857   0.357143   0.428571           1.642857\n",
       "std       4.1833   1.008208   0.497245   0.646206           1.081818\n",
       "min    1001.0000  15.000000   0.000000   0.000000           0.000000\n",
       "25%    1004.2500  16.250000   0.000000   0.000000           1.000000\n",
       "50%    1007.5000  17.000000   0.000000   0.000000           1.000000\n",
       "75%    1010.7500  17.000000   1.000000   1.000000           2.000000\n",
       "max    1014.0000  18.000000   1.000000   2.000000           4.000000"
      ]
     },
     "execution_count": 36,
     "metadata": {},
     "output_type": "execute_result"
    }
   ],
   "source": [
    "csv.describe() #gives function to int value only"
   ]
  },
  {
   "cell_type": "code",
   "execution_count": 38,
   "id": "a3f7e755",
   "metadata": {},
   "outputs": [
    {
     "data": {
      "text/html": [
       "<div>\n",
       "<style scoped>\n",
       "    .dataframe tbody tr th:only-of-type {\n",
       "        vertical-align: middle;\n",
       "    }\n",
       "\n",
       "    .dataframe tbody tr th {\n",
       "        vertical-align: top;\n",
       "    }\n",
       "\n",
       "    .dataframe thead th {\n",
       "        text-align: right;\n",
       "    }\n",
       "</style>\n",
       "<table border=\"1\" class=\"dataframe\">\n",
       "  <thead>\n",
       "    <tr style=\"text-align: right;\">\n",
       "      <th></th>\n",
       "      <th>StudentID</th>\n",
       "      <th>Age</th>\n",
       "      <th>Gender</th>\n",
       "      <th>Ethnicity</th>\n",
       "      <th>ParentalEducation</th>\n",
       "    </tr>\n",
       "  </thead>\n",
       "  <tbody>\n",
       "    <tr>\n",
       "      <th>0</th>\n",
       "      <td>1001</td>\n",
       "      <td>17</td>\n",
       "      <td>1</td>\n",
       "      <td>0</td>\n",
       "      <td>2</td>\n",
       "    </tr>\n",
       "    <tr>\n",
       "      <th>1</th>\n",
       "      <td>1002</td>\n",
       "      <td>18</td>\n",
       "      <td>0</td>\n",
       "      <td>0</td>\n",
       "      <td>1</td>\n",
       "    </tr>\n",
       "  </tbody>\n",
       "</table>\n",
       "</div>"
      ],
      "text/plain": [
       "   StudentID  Age  Gender  Ethnicity  ParentalEducation\n",
       "0       1001   17       1          0                  2\n",
       "1       1002   18       0          0                  1"
      ]
     },
     "execution_count": 38,
     "metadata": {},
     "output_type": "execute_result"
    }
   ],
   "source": [
    "csv.head(2) #get first 2 rows , bydefault gives 5 rows"
   ]
  },
  {
   "cell_type": "code",
   "execution_count": 41,
   "id": "97698bec",
   "metadata": {},
   "outputs": [
    {
     "data": {
      "text/html": [
       "<div>\n",
       "<style scoped>\n",
       "    .dataframe tbody tr th:only-of-type {\n",
       "        vertical-align: middle;\n",
       "    }\n",
       "\n",
       "    .dataframe tbody tr th {\n",
       "        vertical-align: top;\n",
       "    }\n",
       "\n",
       "    .dataframe thead th {\n",
       "        text-align: right;\n",
       "    }\n",
       "</style>\n",
       "<table border=\"1\" class=\"dataframe\">\n",
       "  <thead>\n",
       "    <tr style=\"text-align: right;\">\n",
       "      <th></th>\n",
       "      <th>StudentID</th>\n",
       "      <th>Age</th>\n",
       "      <th>Gender</th>\n",
       "      <th>Ethnicity</th>\n",
       "      <th>ParentalEducation</th>\n",
       "    </tr>\n",
       "  </thead>\n",
       "  <tbody>\n",
       "    <tr>\n",
       "      <th>9</th>\n",
       "      <td>1010</td>\n",
       "      <td>16</td>\n",
       "      <td>1</td>\n",
       "      <td>0</td>\n",
       "      <td>1</td>\n",
       "    </tr>\n",
       "    <tr>\n",
       "      <th>10</th>\n",
       "      <td>1011</td>\n",
       "      <td>17</td>\n",
       "      <td>0</td>\n",
       "      <td>0</td>\n",
       "      <td>1</td>\n",
       "    </tr>\n",
       "    <tr>\n",
       "      <th>11</th>\n",
       "      <td>1012</td>\n",
       "      <td>17</td>\n",
       "      <td>0</td>\n",
       "      <td>0</td>\n",
       "      <td>1</td>\n",
       "    </tr>\n",
       "    <tr>\n",
       "      <th>12</th>\n",
       "      <td>1013</td>\n",
       "      <td>17</td>\n",
       "      <td>0</td>\n",
       "      <td>1</td>\n",
       "      <td>1</td>\n",
       "    </tr>\n",
       "    <tr>\n",
       "      <th>13</th>\n",
       "      <td>1014</td>\n",
       "      <td>17</td>\n",
       "      <td>0</td>\n",
       "      <td>1</td>\n",
       "      <td>2</td>\n",
       "    </tr>\n",
       "  </tbody>\n",
       "</table>\n",
       "</div>"
      ],
      "text/plain": [
       "    StudentID  Age  Gender  Ethnicity  ParentalEducation\n",
       "9        1010   16       1          0                  1\n",
       "10       1011   17       0          0                  1\n",
       "11       1012   17       0          0                  1\n",
       "12       1013   17       0          1                  1\n",
       "13       1014   17       0          1                  2"
      ]
     },
     "execution_count": 41,
     "metadata": {},
     "output_type": "execute_result"
    }
   ],
   "source": [
    "csv.tail() #get last 5 rows"
   ]
  },
  {
   "cell_type": "code",
   "execution_count": 52,
   "id": "1fc155f0",
   "metadata": {},
   "outputs": [
    {
     "data": {
      "text/html": [
       "<div>\n",
       "<style scoped>\n",
       "    .dataframe tbody tr th:only-of-type {\n",
       "        vertical-align: middle;\n",
       "    }\n",
       "\n",
       "    .dataframe tbody tr th {\n",
       "        vertical-align: top;\n",
       "    }\n",
       "\n",
       "    .dataframe thead th {\n",
       "        text-align: right;\n",
       "    }\n",
       "</style>\n",
       "<table border=\"1\" class=\"dataframe\">\n",
       "  <thead>\n",
       "    <tr style=\"text-align: right;\">\n",
       "      <th></th>\n",
       "      <th>StudentID</th>\n",
       "      <th>Age</th>\n",
       "      <th>Gender</th>\n",
       "      <th>Ethnicity</th>\n",
       "      <th>ParentalEducation</th>\n",
       "    </tr>\n",
       "  </thead>\n",
       "  <tbody>\n",
       "    <tr>\n",
       "      <th>1</th>\n",
       "      <td>1002</td>\n",
       "      <td>18</td>\n",
       "      <td>0</td>\n",
       "      <td>0</td>\n",
       "      <td>1</td>\n",
       "    </tr>\n",
       "    <tr>\n",
       "      <th>2</th>\n",
       "      <td>1003</td>\n",
       "      <td>15</td>\n",
       "      <td>0</td>\n",
       "      <td>2</td>\n",
       "      <td>3</td>\n",
       "    </tr>\n",
       "    <tr>\n",
       "      <th>3</th>\n",
       "      <td>1004</td>\n",
       "      <td>17</td>\n",
       "      <td>1</td>\n",
       "      <td>0</td>\n",
       "      <td>3</td>\n",
       "    </tr>\n",
       "    <tr>\n",
       "      <th>4</th>\n",
       "      <td>1005</td>\n",
       "      <td>17</td>\n",
       "      <td>1</td>\n",
       "      <td>0</td>\n",
       "      <td>2</td>\n",
       "    </tr>\n",
       "    <tr>\n",
       "      <th>5</th>\n",
       "      <td>1006</td>\n",
       "      <td>18</td>\n",
       "      <td>0</td>\n",
       "      <td>0</td>\n",
       "      <td>1</td>\n",
       "    </tr>\n",
       "  </tbody>\n",
       "</table>\n",
       "</div>"
      ],
      "text/plain": [
       "   StudentID  Age  Gender  Ethnicity  ParentalEducation\n",
       "1       1002   18       0          0                  1\n",
       "2       1003   15       0          2                  3\n",
       "3       1004   17       1          0                  3\n",
       "4       1005   17       1          0                  2\n",
       "5       1006   18       0          0                  1"
      ]
     },
     "execution_count": 52,
     "metadata": {},
     "output_type": "execute_result"
    }
   ],
   "source": [
    "csv[1:6] #slicing to get specific data\n",
    "# csv[12:5:-1] #revrese"
   ]
  },
  {
   "cell_type": "code",
   "execution_count": 53,
   "id": "571150d3",
   "metadata": {},
   "outputs": [
    {
     "data": {
      "text/plain": [
       "<NumpyExtensionArray>\n",
       "[ np.int64(0),  np.int64(1),  np.int64(2),  np.int64(3),  np.int64(4),\n",
       "  np.int64(5),  np.int64(6),  np.int64(7),  np.int64(8),  np.int64(9),\n",
       " np.int64(10), np.int64(11), np.int64(12), np.int64(13)]\n",
       "Length: 14, dtype: int64"
      ]
     },
     "execution_count": 53,
     "metadata": {},
     "output_type": "execute_result"
    }
   ],
   "source": [
    "csv.index.array  # convert index to array"
   ]
  },
  {
   "cell_type": "code",
   "execution_count": 59,
   "id": "3cc33745",
   "metadata": {},
   "outputs": [
    {
     "name": "stdout",
     "output_type": "stream",
     "text": [
      "[[1001   17    1    0    2]\n",
      " [1002   18    0    0    1]\n",
      " [1003   15    0    2    3]\n",
      " [1004   17    1    0    3]\n",
      " [1005   17    1    0    2]\n",
      " [1006   18    0    0    1]\n",
      " [1007   15    0    1    1]\n",
      " [1008   15    1    1    4]\n",
      " [1009   17    0    0    0]\n",
      " [1010   16    1    0    1]\n",
      " [1011   17    0    0    1]\n",
      " [1012   17    0    0    1]\n",
      " [1013   17    0    1    1]\n",
      " [1014   17    0    1    2]]\n"
     ]
    }
   ],
   "source": [
    "import numpy as np\n",
    "# csv.to_numpy  # convert dataframe to numpy array\n",
    "v = np.asarray(csv)\n",
    "print(v)"
   ]
  },
  {
   "cell_type": "code",
   "execution_count": 63,
   "id": "574698ec",
   "metadata": {},
   "outputs": [
    {
     "data": {
      "text/html": [
       "<div>\n",
       "<style scoped>\n",
       "    .dataframe tbody tr th:only-of-type {\n",
       "        vertical-align: middle;\n",
       "    }\n",
       "\n",
       "    .dataframe tbody tr th {\n",
       "        vertical-align: top;\n",
       "    }\n",
       "\n",
       "    .dataframe thead th {\n",
       "        text-align: right;\n",
       "    }\n",
       "</style>\n",
       "<table border=\"1\" class=\"dataframe\">\n",
       "  <thead>\n",
       "    <tr style=\"text-align: right;\">\n",
       "      <th></th>\n",
       "      <th>StudentID</th>\n",
       "      <th>Age</th>\n",
       "      <th>Gender</th>\n",
       "      <th>Ethnicity</th>\n",
       "      <th>ParentalEducation</th>\n",
       "    </tr>\n",
       "  </thead>\n",
       "  <tbody>\n",
       "    <tr>\n",
       "      <th>13</th>\n",
       "      <td>1014</td>\n",
       "      <td>17</td>\n",
       "      <td>0</td>\n",
       "      <td>1</td>\n",
       "      <td>2</td>\n",
       "    </tr>\n",
       "    <tr>\n",
       "      <th>12</th>\n",
       "      <td>1013</td>\n",
       "      <td>17</td>\n",
       "      <td>0</td>\n",
       "      <td>1</td>\n",
       "      <td>1</td>\n",
       "    </tr>\n",
       "    <tr>\n",
       "      <th>11</th>\n",
       "      <td>1012</td>\n",
       "      <td>17</td>\n",
       "      <td>0</td>\n",
       "      <td>0</td>\n",
       "      <td>1</td>\n",
       "    </tr>\n",
       "    <tr>\n",
       "      <th>10</th>\n",
       "      <td>1011</td>\n",
       "      <td>17</td>\n",
       "      <td>0</td>\n",
       "      <td>0</td>\n",
       "      <td>1</td>\n",
       "    </tr>\n",
       "    <tr>\n",
       "      <th>9</th>\n",
       "      <td>1010</td>\n",
       "      <td>16</td>\n",
       "      <td>1</td>\n",
       "      <td>0</td>\n",
       "      <td>1</td>\n",
       "    </tr>\n",
       "    <tr>\n",
       "      <th>8</th>\n",
       "      <td>1009</td>\n",
       "      <td>17</td>\n",
       "      <td>0</td>\n",
       "      <td>0</td>\n",
       "      <td>0</td>\n",
       "    </tr>\n",
       "    <tr>\n",
       "      <th>7</th>\n",
       "      <td>1008</td>\n",
       "      <td>15</td>\n",
       "      <td>1</td>\n",
       "      <td>1</td>\n",
       "      <td>4</td>\n",
       "    </tr>\n",
       "    <tr>\n",
       "      <th>6</th>\n",
       "      <td>1007</td>\n",
       "      <td>15</td>\n",
       "      <td>0</td>\n",
       "      <td>1</td>\n",
       "      <td>1</td>\n",
       "    </tr>\n",
       "    <tr>\n",
       "      <th>5</th>\n",
       "      <td>1006</td>\n",
       "      <td>18</td>\n",
       "      <td>0</td>\n",
       "      <td>0</td>\n",
       "      <td>1</td>\n",
       "    </tr>\n",
       "    <tr>\n",
       "      <th>4</th>\n",
       "      <td>1005</td>\n",
       "      <td>17</td>\n",
       "      <td>1</td>\n",
       "      <td>0</td>\n",
       "      <td>2</td>\n",
       "    </tr>\n",
       "    <tr>\n",
       "      <th>3</th>\n",
       "      <td>1004</td>\n",
       "      <td>17</td>\n",
       "      <td>1</td>\n",
       "      <td>0</td>\n",
       "      <td>3</td>\n",
       "    </tr>\n",
       "    <tr>\n",
       "      <th>2</th>\n",
       "      <td>1003</td>\n",
       "      <td>15</td>\n",
       "      <td>0</td>\n",
       "      <td>2</td>\n",
       "      <td>3</td>\n",
       "    </tr>\n",
       "    <tr>\n",
       "      <th>1</th>\n",
       "      <td>1002</td>\n",
       "      <td>18</td>\n",
       "      <td>0</td>\n",
       "      <td>0</td>\n",
       "      <td>1</td>\n",
       "    </tr>\n",
       "    <tr>\n",
       "      <th>0</th>\n",
       "      <td>1001</td>\n",
       "      <td>17</td>\n",
       "      <td>1</td>\n",
       "      <td>0</td>\n",
       "      <td>2</td>\n",
       "    </tr>\n",
       "  </tbody>\n",
       "</table>\n",
       "</div>"
      ],
      "text/plain": [
       "    StudentID  Age  Gender  Ethnicity  ParentalEducation\n",
       "13       1014   17       0          1                  2\n",
       "12       1013   17       0          1                  1\n",
       "11       1012   17       0          0                  1\n",
       "10       1011   17       0          0                  1\n",
       "9        1010   16       1          0                  1\n",
       "8        1009   17       0          0                  0\n",
       "7        1008   15       1          1                  4\n",
       "6        1007   15       0          1                  1\n",
       "5        1006   18       0          0                  1\n",
       "4        1005   17       1          0                  2\n",
       "3        1004   17       1          0                  3\n",
       "2        1003   15       0          2                  3\n",
       "1        1002   18       0          0                  1\n",
       "0        1001   17       1          0                  2"
      ]
     },
     "execution_count": 63,
     "metadata": {},
     "output_type": "execute_result"
    }
   ],
   "source": [
    "csv.sort_index(ascending=False,axis=0) #sort data in decending order at axis 0"
   ]
  },
  {
   "cell_type": "code",
   "execution_count": 72,
   "id": "5ab0295b",
   "metadata": {},
   "outputs": [
    {
     "name": "stdout",
     "output_type": "stream",
     "text": [
      "    StudentID  Age       Gender  Ethnicity  ParentalEducation\n",
      "0        1001  Age  Male/Female          0                  2\n",
      "1        1002   18            0          0                  1\n",
      "2        1003  Age            0          2                  3\n",
      "3        1004   17            1          0                  3\n",
      "4        1005   17            1          0                  2\n",
      "5        1006   18            0          0                  1\n",
      "6        1007   15            0          1                  1\n",
      "7        1008   15            1          1                  4\n",
      "8        1009   17            0          0                  0\n",
      "9        1010   16            1          0                  1\n",
      "10       1011   17            0          0                  1\n",
      "11       1012   17            0          0                  1\n",
      "12       1013   17            0          1                  1\n",
      "13       1014   17            0          1                  2\n"
     ]
    }
   ],
   "source": [
    "csv.loc[0,\"Gender\"] = \"Male/Female\"  #change specific element in dataframe,,,  loc[row, column]=\"changes\"\n",
    "print(csv)"
   ]
  },
  {
   "cell_type": "code",
   "execution_count": 79,
   "id": "2baaf0da",
   "metadata": {},
   "outputs": [
    {
     "data": {
      "text/html": [
       "<div>\n",
       "<style scoped>\n",
       "    .dataframe tbody tr th:only-of-type {\n",
       "        vertical-align: middle;\n",
       "    }\n",
       "\n",
       "    .dataframe tbody tr th {\n",
       "        vertical-align: top;\n",
       "    }\n",
       "\n",
       "    .dataframe thead th {\n",
       "        text-align: right;\n",
       "    }\n",
       "</style>\n",
       "<table border=\"1\" class=\"dataframe\">\n",
       "  <thead>\n",
       "    <tr style=\"text-align: right;\">\n",
       "      <th></th>\n",
       "      <th>Age</th>\n",
       "      <th>Gender</th>\n",
       "    </tr>\n",
       "  </thead>\n",
       "  <tbody>\n",
       "    <tr>\n",
       "      <th>4</th>\n",
       "      <td>17</td>\n",
       "      <td>1</td>\n",
       "    </tr>\n",
       "    <tr>\n",
       "      <th>5</th>\n",
       "      <td>18</td>\n",
       "      <td>0</td>\n",
       "    </tr>\n",
       "  </tbody>\n",
       "</table>\n",
       "</div>"
      ],
      "text/plain": [
       "  Age Gender\n",
       "4  17      1\n",
       "5  18      0"
      ]
     },
     "execution_count": 79,
     "metadata": {},
     "output_type": "execute_result"
    }
   ],
   "source": [
    "csv.loc[[4,5],[\"Age\",\"Gender\"]] #get rows and columns only"
   ]
  },
  {
   "cell_type": "code",
   "execution_count": 83,
   "metadata": {},
   "outputs": [
    {
     "data": {
      "text/html": [
       "<div>\n",
       "<style scoped>\n",
       "    .dataframe tbody tr th:only-of-type {\n",
       "        vertical-align: middle;\n",
       "    }\n",
       "\n",
       "    .dataframe tbody tr th {\n",
       "        vertical-align: top;\n",
       "    }\n",
       "\n",
       "    .dataframe thead th {\n",
       "        text-align: right;\n",
       "    }\n",
       "</style>\n",
       "<table border=\"1\" class=\"dataframe\">\n",
       "  <thead>\n",
       "    <tr style=\"text-align: right;\">\n",
       "      <th></th>\n",
       "      <th>StudentID</th>\n",
       "      <th>Age</th>\n",
       "      <th>Gender</th>\n",
       "      <th>Ethnicity</th>\n",
       "      <th>ParentalEducation</th>\n",
       "    </tr>\n",
       "  </thead>\n",
       "  <tbody>\n",
       "    <tr>\n",
       "      <th>5</th>\n",
       "      <td>1006</td>\n",
       "      <td>18</td>\n",
       "      <td>0</td>\n",
       "      <td>0</td>\n",
       "      <td>1</td>\n",
       "    </tr>\n",
       "    <tr>\n",
       "      <th>6</th>\n",
       "      <td>1007</td>\n",
       "      <td>15</td>\n",
       "      <td>0</td>\n",
       "      <td>1</td>\n",
       "      <td>1</td>\n",
       "    </tr>\n",
       "  </tbody>\n",
       "</table>\n",
       "</div>"
      ],
      "text/plain": [
       "   StudentID Age Gender  Ethnicity  ParentalEducation\n",
       "5       1006  18      0          0                  1\n",
       "6       1007  15      0          1                  1"
      ]
     },
     "execution_count": 83,
     "metadata": {},
     "output_type": "execute_result"
    }
   ],
   "source": [
    "csv.loc[[5, 6]]  #get full rows"
   ]
  },
  {
   "cell_type": "code",
   "execution_count": 87,
   "id": "f4ad542a",
   "metadata": {},
   "outputs": [
    {
     "data": {
      "text/plain": [
       "'Male/Female'"
      ]
     },
     "execution_count": 87,
     "metadata": {},
     "output_type": "execute_result"
    }
   ],
   "source": [
    "csv.iloc[0, 2]  #to get perticulat element give rows number and column number"
   ]
  },
  {
   "cell_type": "code",
   "execution_count": 92,
   "id": "52560e39",
   "metadata": {},
   "outputs": [
    {
     "data": {
      "text/html": [
       "<div>\n",
       "<style scoped>\n",
       "    .dataframe tbody tr th:only-of-type {\n",
       "        vertical-align: middle;\n",
       "    }\n",
       "\n",
       "    .dataframe tbody tr th {\n",
       "        vertical-align: top;\n",
       "    }\n",
       "\n",
       "    .dataframe thead th {\n",
       "        text-align: right;\n",
       "    }\n",
       "</style>\n",
       "<table border=\"1\" class=\"dataframe\">\n",
       "  <thead>\n",
       "    <tr style=\"text-align: right;\">\n",
       "      <th></th>\n",
       "      <th>StudentID</th>\n",
       "      <th>Age</th>\n",
       "      <th>Gender</th>\n",
       "      <th>ParentalEducation</th>\n",
       "    </tr>\n",
       "  </thead>\n",
       "  <tbody>\n",
       "    <tr>\n",
       "      <th>0</th>\n",
       "      <td>1001</td>\n",
       "      <td>Age</td>\n",
       "      <td>Male/Female</td>\n",
       "      <td>2</td>\n",
       "    </tr>\n",
       "    <tr>\n",
       "      <th>1</th>\n",
       "      <td>1002</td>\n",
       "      <td>18</td>\n",
       "      <td>0</td>\n",
       "      <td>1</td>\n",
       "    </tr>\n",
       "    <tr>\n",
       "      <th>2</th>\n",
       "      <td>1003</td>\n",
       "      <td>Age</td>\n",
       "      <td>0</td>\n",
       "      <td>3</td>\n",
       "    </tr>\n",
       "    <tr>\n",
       "      <th>3</th>\n",
       "      <td>1004</td>\n",
       "      <td>17</td>\n",
       "      <td>1</td>\n",
       "      <td>3</td>\n",
       "    </tr>\n",
       "    <tr>\n",
       "      <th>4</th>\n",
       "      <td>1005</td>\n",
       "      <td>17</td>\n",
       "      <td>1</td>\n",
       "      <td>2</td>\n",
       "    </tr>\n",
       "    <tr>\n",
       "      <th>5</th>\n",
       "      <td>1006</td>\n",
       "      <td>18</td>\n",
       "      <td>0</td>\n",
       "      <td>1</td>\n",
       "    </tr>\n",
       "    <tr>\n",
       "      <th>6</th>\n",
       "      <td>1007</td>\n",
       "      <td>15</td>\n",
       "      <td>0</td>\n",
       "      <td>1</td>\n",
       "    </tr>\n",
       "    <tr>\n",
       "      <th>7</th>\n",
       "      <td>1008</td>\n",
       "      <td>15</td>\n",
       "      <td>1</td>\n",
       "      <td>4</td>\n",
       "    </tr>\n",
       "    <tr>\n",
       "      <th>8</th>\n",
       "      <td>1009</td>\n",
       "      <td>17</td>\n",
       "      <td>0</td>\n",
       "      <td>0</td>\n",
       "    </tr>\n",
       "    <tr>\n",
       "      <th>9</th>\n",
       "      <td>1010</td>\n",
       "      <td>16</td>\n",
       "      <td>1</td>\n",
       "      <td>1</td>\n",
       "    </tr>\n",
       "    <tr>\n",
       "      <th>10</th>\n",
       "      <td>1011</td>\n",
       "      <td>17</td>\n",
       "      <td>0</td>\n",
       "      <td>1</td>\n",
       "    </tr>\n",
       "    <tr>\n",
       "      <th>11</th>\n",
       "      <td>1012</td>\n",
       "      <td>17</td>\n",
       "      <td>0</td>\n",
       "      <td>1</td>\n",
       "    </tr>\n",
       "    <tr>\n",
       "      <th>12</th>\n",
       "      <td>1013</td>\n",
       "      <td>17</td>\n",
       "      <td>0</td>\n",
       "      <td>1</td>\n",
       "    </tr>\n",
       "    <tr>\n",
       "      <th>13</th>\n",
       "      <td>1014</td>\n",
       "      <td>17</td>\n",
       "      <td>0</td>\n",
       "      <td>2</td>\n",
       "    </tr>\n",
       "  </tbody>\n",
       "</table>\n",
       "</div>"
      ],
      "text/plain": [
       "    StudentID  Age       Gender  ParentalEducation\n",
       "0        1001  Age  Male/Female                  2\n",
       "1        1002   18            0                  1\n",
       "2        1003  Age            0                  3\n",
       "3        1004   17            1                  3\n",
       "4        1005   17            1                  2\n",
       "5        1006   18            0                  1\n",
       "6        1007   15            0                  1\n",
       "7        1008   15            1                  4\n",
       "8        1009   17            0                  0\n",
       "9        1010   16            1                  1\n",
       "10       1011   17            0                  1\n",
       "11       1012   17            0                  1\n",
       "12       1013   17            0                  1\n",
       "13       1014   17            0                  2"
      ]
     },
     "execution_count": 92,
     "metadata": {},
     "output_type": "execute_result"
    }
   ],
   "source": [
    "csv.drop(\"Ethnicity\",axis=1) #drop column"
   ]
  },
  {
   "cell_type": "code",
   "execution_count": null,
   "id": "32e96977",
   "metadata": {},
   "outputs": [],
   "source": []
  }
 ],
 "metadata": {
  "kernelspec": {
   "display_name": "Python 3 (ipykernel)",
   "language": "python",
   "name": "python3"
  },
  "language_info": {
   "codemirror_mode": {
    "name": "ipython",
    "version": 3
   },
   "file_extension": ".py",
   "mimetype": "text/x-python",
   "name": "python",
   "nbconvert_exporter": "python",
   "pygments_lexer": "ipython3",
   "version": "3.11.4"
  }
 },
 "nbformat": 4,
 "nbformat_minor": 5
}
